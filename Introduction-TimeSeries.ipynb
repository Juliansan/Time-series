{
 "cells": [
  {
   "cell_type": "markdown",
   "source": [
    "# Introduction to Time-Series"
   ],
   "metadata": {
    "collapsed": false
   },
   "id": "b011189fb1345843"
  },
  {
   "cell_type": "markdown",
   "source": [
    "## Topics introduced\n",
    "1. **What is Time-series**\n",
    "2. **Data-generating process (DGP)**\n",
    "    - **Components of a time-series**\n",
    "    - **Decomposition of a Time Series**\n",
    "    - **Stationary and non-stationary time-series**\n",
    "4. **What can we forecast**\n",
    "5. **Forecasting terminology and notation**"
   ],
   "metadata": {
    "collapsed": false
   },
   "id": "66975de36269fe9a"
  },
  {
   "cell_type": "markdown",
   "source": [
    "## What is a Time-Series\n",
    "\n",
    "A time series is a sequence of observations taken sequentially in time.\n",
    "Each data point in the series represents the value of a variable at a specific point in time. The time intervals can be yearly, quarterly, monthly, weekly, daily, hourly, etc. The data can be at any level of aggregation, such as the number of daily visitors to a website, the number of cars produced by a factory each month, or the number of flights taken each year.\n",
    "\n",
    "### Types of Time Series\n",
    "There are two types of time series:\n",
    "- **Regular time-series**: The data points are equally spaced in time. For example, the daily closing value of the S&P 500 index.\n",
    "- **Irregular time-series**: There are a few times when we don't have regular time intervals between data points. For example, the number of daily visitors to a website.\n"
   ],
   "metadata": {
    "collapsed": false
   },
   "id": "61d77d9ebc66bf63"
  },
  {
   "cell_type": "markdown",
   "source": [
    "## Data-generating process (DGP)\n",
    "\n",
    "The data-generating process (DGP) is a model that explains how the data was generated. In statistics, this underlying process that generated the time series is referred to as the **DGP**. The DGP is the true model that we are trying to estimate. The DGP is usually unknown, and we have to estimate it from the data."
   ],
   "metadata": {
    "collapsed": false
   },
   "id": "1b3982ede1da0fac"
  },
  {
   "cell_type": "markdown",
   "source": [
    "### Components of a time-series\n",
    "\n",
    "A time series is a combination of four components: **trend, seasonality, cycles and noise**.\n",
    "\n",
    "**Trend Component**\n",
    "This represents the long-term progression of the series. It is the underlying trend in the series. It can be increasing or decreasing over time. For example, the number of daily visitors to a website may be increasing over time.\n",
    "\n",
    "**Seasonal Component**\n",
    "This represents the seasonal variation in the series. It is the periodic component in the series. It is always of a fixed and known frequency. For example, the number of daily visitors to a website may increase during the weekends and decrease during the weekdays.\n",
    "\n",
    "**Cyclic Component**\n",
    "This represents the cyclical variation in the series. It is the non-periodic component in the series. It is of an unknown frequency. For example, the number of daily visitors to a website may increase for a few months and then decrease for a few months.\n",
    "\n",
    "**Noise Component**\n",
    "This represents the random variation in the series. It is the unpredictable component in the series. It is also known as the residual component. For example, the number of daily visitors to a website may be different each day due to random factors.\n"
   ],
   "metadata": {
    "collapsed": false
   },
   "id": "536ae1ff7179af3a"
  },
  {
   "cell_type": "markdown",
   "source": [
    "### Decomposition of a Time Series\n",
    "The process of separating a time series into its components is known as time series decomposition. The additive decomposition model is given by:\n",
    "\n",
    "$$y_t = T_t + S_t + C_t + E_t$$\n",
    "\n",
    "where $y_t$ is the observed value at time $t$, $T_t$ is the trend component at time $t$, $S_t$ is the seasonal component at time $t$, $C_t$ is the cyclic component at time $t$, and $E_t$ is the noise component at time $t$.\n",
    "\n",
    "The multiplicative decomposition model is given by:\n",
    "\n",
    "$$y_t = T_t \\times S_t \\times C_t \\times E_t$$\n",
    "\n",
    "where $y_t$ is the observed value at time $t$, $T_t$ is the trend component at time $t$, $S_t$ is the seasonal component at time $t$, $C_t$ is the cyclic component at time $t$, and $E_t$ is the noise component at time $t$."
   ],
   "metadata": {
    "collapsed": false
   },
   "id": "298dbda3c46a4013"
  },
  {
   "cell_type": "markdown",
   "source": [
    "### Stationary and non-stationary time-series\n",
    "\n",
    "A time series is said to be stationary if its statistical properties such as mean, variance, autocorrelation, etc. remain constant over time. A stationary time series is easier to model and forecast as compared to a non-stationary time series."
   ],
   "metadata": {
    "collapsed": false
   },
   "id": "1af56b5be223fe7a"
  },
  {
   "cell_type": "markdown",
   "source": [
    "## What can we forecast\n",
    "\n",
    "The most basic assumption when we forecast a time series is that the future will be like the past. This is known as the **stationarity assumption**. If the future is not like the past, then we cannot forecast the time series. This is because the past data is the only information we have about the future. If the future is not like the past, then we cannot use the past data to forecast the future.\n",
    "\n",
    "Let's rank the time series from easiest to hardest to forecast:\n",
    "1. **Deterministic time series**: The future is completely determined by the past. For example, the number of daily visitors to a website is completely determined by the number of daily visitors to the website in the past.\n",
    "\n",
    "2. **Stochastic time series**: The future is not completely determined by the past. For example, the number of daily visitors to a website is not completely determined by the number of daily visitors to the website in the past. There is some randomness involved.\n",
    "\n",
    "3. **Chaotic time series**: The future is not completely determined by the past. There is some randomness involved. In addition, the time series is sensitive to initial conditions. For example, the number of daily visitors to a website is not completely determined by the number of daily visitors to the website in the past. There is some randomness involved. In addition, the number of daily visitors to the website is sensitive to initial conditions. For example, if the number of daily visitors to the website is 1000 today, then the number of daily visitors to the website tomorrow will be different if the number of daily visitors to the website today was 1001 instead of 1000.\n",
    "\n",
    "4. **Non-forecastable time series**: The future is not forecastable. For example, the number of daily visitors to a website is not forecastable.\n",
    "\n",
    "### Predictability of a time series\n",
    "Three factors determine the predictability of a time series:\n",
    "1. **Understanding the DGP**: The more we understand the DGP, the more predictable the time series is. For example, if we know that the number of daily visitors to a website is increasing over time, then we can forecast the number of daily visitors to the website in the future.\n",
    "2. **Amount of data**: The more data we have, the more predictable the time series is. \n",
    "3. **Adequately repeating patterns**: The more adequately repeating patterns we have, the more predictable the time series is."
   ],
   "metadata": {
    "collapsed": false
   },
   "id": "6a53e139ac1043d9"
  },
  {
   "cell_type": "markdown",
   "source": [
    "## Forecasting terminology and notation\n",
    "\n",
    "- **Forecasting**: Is the prediction of future values of a time series using the known past values of the time series.\n",
    "- **Multivariate forecasting**: Consist of more than one time-series variable that is not only dependent on it's past values but also has some dependency on the other variables. The aim of multivariate forecasting is to come up with a model that captures the interrelationships between the variables and use it to forecast the future values of the variables.\n",
    "- **Explanatory forecasting**: In addition to the past values of a time series, we might use some other information to predict the future values of a time series.\n",
    "- **Backtesting**: Is the process of testing the accuracy of a forecasting model on past data.\n",
    "- **In-sample and out-sample**: In-sample data is the data that we use to fit the model. Out-sample data is the data that we use to test the model.\n",
    "- **Exogenous and endogenous variables**: Exogenous variables are the variables that are not dependent on the other variables. Endogenous variables are the variables that are dependent on the other variables.\n",
    "- **Forecast combination**: Is the process of combining the forecasts from different forecasting models to come up with a better forecast."
   ],
   "metadata": {
    "collapsed": false
   },
   "id": "e0dcf4976304f7f2"
  },
  {
   "cell_type": "code",
   "outputs": [],
   "source": [],
   "metadata": {
    "collapsed": false
   },
   "id": "3099f306c699f243"
  }
 ],
 "metadata": {
  "kernelspec": {
   "display_name": "Python 3",
   "language": "python",
   "name": "python3"
  },
  "language_info": {
   "codemirror_mode": {
    "name": "ipython",
    "version": 2
   },
   "file_extension": ".py",
   "mimetype": "text/x-python",
   "name": "python",
   "nbconvert_exporter": "python",
   "pygments_lexer": "ipython2",
   "version": "2.7.6"
  }
 },
 "nbformat": 4,
 "nbformat_minor": 5
}
